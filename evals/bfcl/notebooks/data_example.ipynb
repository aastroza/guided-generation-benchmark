{
 "cells": [
  {
   "cell_type": "code",
   "execution_count": 10,
   "metadata": {},
   "outputs": [],
   "source": [
    "import json\n",
    "import sys\n",
    "import importlib.util\n",
    "from pathlib import Path"
   ]
  },
  {
   "cell_type": "code",
   "execution_count": 2,
   "metadata": {},
   "outputs": [],
   "source": [
    "data = {\"question\": \"Find the area of a triangle with a base of 10 units and height of 5 units.\", \"function\": {\"name\": \"calculate_triangle_area\", \"description\": \"Calculate the area of a triangle given its base and height.\", \"parameters\": {\"type\": \"dict\", \"properties\": {\"base\": {\"type\": \"integer\", \"description\": \"The base of the triangle.\"}, \"height\": {\"type\": \"integer\", \"description\": \"The height of the triangle.\"}, \"unit\": {\"type\": \"string\", \"description\": \"The unit of measure (defaults to 'units' if not specified)\"}}, \"required\": [\"base\", \"height\"]}}}"
   ]
  },
  {
   "cell_type": "code",
   "execution_count": 3,
   "metadata": {},
   "outputs": [
    {
     "data": {
      "text/plain": [
       "'Find the area of a triangle with a base of 10 units and height of 5 units.'"
      ]
     },
     "execution_count": 3,
     "metadata": {},
     "output_type": "execute_result"
    }
   ],
   "source": [
    "question = data['question']\n",
    "question"
   ]
  },
  {
   "cell_type": "code",
   "execution_count": 4,
   "metadata": {},
   "outputs": [
    {
     "data": {
      "text/plain": [
       "{'name': 'calculate_triangle_area',\n",
       " 'description': 'Calculate the area of a triangle given its base and height.',\n",
       " 'parameters': {'type': 'dict',\n",
       "  'properties': {'base': {'type': 'integer',\n",
       "    'description': 'The base of the triangle.'},\n",
       "   'height': {'type': 'integer', 'description': 'The height of the triangle.'},\n",
       "   'unit': {'type': 'string',\n",
       "    'description': \"The unit of measure (defaults to 'units' if not specified)\"}},\n",
       "  'required': ['base', 'height']}}"
      ]
     },
     "execution_count": 4,
     "metadata": {},
     "output_type": "execute_result"
    }
   ],
   "source": [
    "functions = data['function']\n",
    "functions"
   ]
  },
  {
   "cell_type": "code",
   "execution_count": 5,
   "metadata": {},
   "outputs": [],
   "source": [
    "# Code copied from :\n",
    "# https://github.com/ShishirPatil/gorilla/blob/1d8d51d0d091c33e730d38745745005c9bc7dfc0/berkeley-function-call-leaderboard/model_handler/constant.py#L13\n",
    "# https://github.com/ShishirPatil/gorilla/blob/1d8d51d0d091c33e730d38745745005c9bc7dfc0/berkeley-function-call-leaderboard/model_handler/utils.py#L9\n",
    "\n",
    "GORILLA_TO_OPENAPI = {\n",
    "    \"integer\": \"integer\",\n",
    "    \"number\": \"number\",\n",
    "    \"float\": \"number\",\n",
    "    \"string\": \"string\",\n",
    "    \"boolean\": \"boolean\",\n",
    "    \"bool\": \"boolean\",\n",
    "    \"array\": \"array\",\n",
    "    \"list\": \"array\",\n",
    "    \"dict\": \"object\",\n",
    "    \"object\": \"object\",\n",
    "    \"tuple\": \"array\",\n",
    "    \"any\": \"string\",\n",
    "    \"byte\": \"integer\",\n",
    "    \"short\": \"integer\",\n",
    "    \"long\": \"integer\",\n",
    "    \"double\": \"number\",\n",
    "    \"char\": \"string\",\n",
    "    \"ArrayList\": \"array\",\n",
    "    \"Array\": \"array\",\n",
    "    \"HashMap\": \"object\",\n",
    "    \"Hashtable\": \"object\",\n",
    "    \"Queue\": \"array\",\n",
    "    \"Stack\": \"array\",\n",
    "    \"Any\": \"string\",\n",
    "    \"String\": \"string\",\n",
    "    \"Bigint\": \"integer\",\n",
    "}\n",
    "\n",
    "def _cast_to_openai_type(properties, mapping, test_category):\n",
    "    for key, value in properties.items():\n",
    "        if \"type\" not in value:\n",
    "            properties[key][\"type\"] = \"string\"\n",
    "        else:\n",
    "            var_type = value[\"type\"]\n",
    "            if mapping == GORILLA_TO_OPENAPI and var_type == \"float\":\n",
    "                properties[key][\"format\"] = \"float\"\n",
    "                properties[key][\"description\"] += \" This is a float type value.\"\n",
    "            if var_type in mapping:\n",
    "                properties[key][\"type\"] = mapping[var_type]\n",
    "            else:\n",
    "                properties[key][\"type\"] = \"string\"\n",
    "\n",
    "        # Currently support:\n",
    "        # - list of any\n",
    "        # - list of list of any\n",
    "        # - list of dict\n",
    "        # - list of list of dict\n",
    "        # - dict of any\n",
    "\n",
    "        if properties[key][\"type\"] == \"array\" or properties[key][\"type\"] == \"object\":\n",
    "            if \"properties\" in properties[key]:\n",
    "                properties[key][\"properties\"] = _cast_to_openai_type(\n",
    "                    properties[key][\"properties\"], mapping, test_category\n",
    "                )\n",
    "            elif \"items\" in properties[key]:\n",
    "                properties[key][\"items\"][\"type\"] = mapping[\n",
    "                    properties[key][\"items\"][\"type\"]\n",
    "                ]\n",
    "                if (\n",
    "                    properties[key][\"items\"][\"type\"] == \"array\"\n",
    "                    and \"items\" in properties[key][\"items\"]\n",
    "                ):\n",
    "                    properties[key][\"items\"][\"items\"][\"type\"] = mapping[\n",
    "                        properties[key][\"items\"][\"items\"][\"type\"]\n",
    "                    ]\n",
    "                elif (\n",
    "                    properties[key][\"items\"][\"type\"] == \"object\"\n",
    "                    and \"properties\" in properties[key][\"items\"]\n",
    "                ):\n",
    "                    properties[key][\"items\"][\"properties\"] = _cast_to_openai_type(\n",
    "                        properties[key][\"items\"][\"properties\"], mapping, test_category\n",
    "                    )\n",
    "    return properties"
   ]
  },
  {
   "cell_type": "code",
   "execution_count": 6,
   "metadata": {},
   "outputs": [
    {
     "name": "stdout",
     "output_type": "stream",
     "text": [
      "{\n",
      "  \"title\": \"calculate_triangle_area\",\n",
      "  \"type\": \"object\",\n",
      "  \"description\": \"Calculate the area of a triangle given its base and height.\",\n",
      "  \"properties\": {\n",
      "    \"base\": {\n",
      "      \"type\": \"integer\",\n",
      "      \"description\": \"The base of the triangle.\"\n",
      "    },\n",
      "    \"height\": {\n",
      "      \"type\": \"integer\",\n",
      "      \"description\": \"The height of the triangle.\"\n",
      "    },\n",
      "    \"unit\": {\n",
      "      \"type\": \"string\",\n",
      "      \"description\": \"The unit of measure (defaults to 'units' if not specified)\"\n",
      "    }\n",
      "  },\n",
      "  \"required\": [\n",
      "    \"base\",\n",
      "    \"height\"\n",
      "  ]\n",
      "}\n"
     ]
    }
   ],
   "source": [
    "schema = json.dumps({\n",
    "            \"title\": functions[\"name\"],\n",
    "            \"type\": \"object\",\n",
    "            \"description\": functions[\"description\"],\n",
    "            \"properties\": _cast_to_openai_type(functions[\"parameters\"][\"properties\"], GORILLA_TO_OPENAPI, \"simple\"),\n",
    "            \"required\": functions[\"parameters\"][\"required\"]\n",
    "        }, indent=2)\n",
    "\n",
    "print(schema)"
   ]
  },
  {
   "cell_type": "code",
   "execution_count": 7,
   "metadata": {},
   "outputs": [],
   "source": [
    "# schema to json file\n",
    "with open('schema.json', 'w') as f:\n",
    "    f.write(schema)"
   ]
  },
  {
   "cell_type": "code",
   "execution_count": 8,
   "metadata": {},
   "outputs": [],
   "source": [
    "!datamodel-codegen  --input schema.json --input-file-type jsonschema --output model.py"
   ]
  },
  {
   "cell_type": "code",
   "execution_count": 11,
   "metadata": {},
   "outputs": [],
   "source": [
    "pydantic_models_dir = Path(\".\").resolve() / \"pydantic_models\"\n",
    "pydantic_models_dir.mkdir(exist_ok=True, parents=True)"
   ]
  },
  {
   "cell_type": "code",
   "execution_count": 14,
   "metadata": {},
   "outputs": [
    {
     "name": "stdout",
     "output_type": "stream",
     "text": [
      "['BaseModel', 'CalculateTriangleArea', 'Field', 'Optional', 'annotations']\n"
     ]
    },
    {
     "ename": "AttributeError",
     "evalue": "Module at C:\\Users\\Alonso\\Dropbox\\personal\\repos\\guided-generation-benchmark\\evals\\bfcl\\notebooks\\pydantic_models\\model.py does not have an object named 'Model'",
     "output_type": "error",
     "traceback": [
      "\u001b[1;31m---------------------------------------------------------------------------\u001b[0m",
      "\u001b[1;31mAttributeError\u001b[0m                            Traceback (most recent call last)",
      "Cell \u001b[1;32mIn[14], line 28\u001b[0m\n\u001b[0;32m     22\u001b[0m     \u001b[38;5;28;01melse\u001b[39;00m:\n\u001b[0;32m     23\u001b[0m         \u001b[38;5;28;01mraise\u001b[39;00m \u001b[38;5;167;01mAttributeError\u001b[39;00m(\n\u001b[0;32m     24\u001b[0m             \u001b[38;5;124mf\u001b[39m\u001b[38;5;124m\"\u001b[39m\u001b[38;5;124mModule at \u001b[39m\u001b[38;5;132;01m{\u001b[39;00mfile_path\u001b[38;5;132;01m}\u001b[39;00m\u001b[38;5;124m does not have an object named \u001b[39m\u001b[38;5;124m'\u001b[39m\u001b[38;5;124mModel\u001b[39m\u001b[38;5;124m'\u001b[39m\u001b[38;5;124m\"\u001b[39m\n\u001b[0;32m     25\u001b[0m         )\n\u001b[1;32m---> 28\u001b[0m Model \u001b[38;5;241m=\u001b[39m \u001b[43mimport_model_from_path\u001b[49m\u001b[43m(\u001b[49m\u001b[43mpydantic_models_dir\u001b[49m\u001b[43m \u001b[49m\u001b[38;5;241;43m/\u001b[39;49m\u001b[43m \u001b[49m\u001b[38;5;124;43m\"\u001b[39;49m\u001b[38;5;124;43mmodel.py\u001b[39;49m\u001b[38;5;124;43m\"\u001b[39;49m\u001b[43m)\u001b[49m\n",
      "Cell \u001b[1;32mIn[14], line 23\u001b[0m, in \u001b[0;36mimport_model_from_path\u001b[1;34m(file_path)\u001b[0m\n\u001b[0;32m     21\u001b[0m     \u001b[38;5;28;01mreturn\u001b[39;00m \u001b[38;5;28mgetattr\u001b[39m(module, \u001b[38;5;124m\"\u001b[39m\u001b[38;5;124mModel\u001b[39m\u001b[38;5;124m\"\u001b[39m)\n\u001b[0;32m     22\u001b[0m \u001b[38;5;28;01melse\u001b[39;00m:\n\u001b[1;32m---> 23\u001b[0m     \u001b[38;5;28;01mraise\u001b[39;00m \u001b[38;5;167;01mAttributeError\u001b[39;00m(\n\u001b[0;32m     24\u001b[0m         \u001b[38;5;124mf\u001b[39m\u001b[38;5;124m\"\u001b[39m\u001b[38;5;124mModule at \u001b[39m\u001b[38;5;132;01m{\u001b[39;00mfile_path\u001b[38;5;132;01m}\u001b[39;00m\u001b[38;5;124m does not have an object named \u001b[39m\u001b[38;5;124m'\u001b[39m\u001b[38;5;124mModel\u001b[39m\u001b[38;5;124m'\u001b[39m\u001b[38;5;124m\"\u001b[39m\n\u001b[0;32m     25\u001b[0m     )\n",
      "\u001b[1;31mAttributeError\u001b[0m: Module at C:\\Users\\Alonso\\Dropbox\\personal\\repos\\guided-generation-benchmark\\evals\\bfcl\\notebooks\\pydantic_models\\model.py does not have an object named 'Model'"
     ]
    }
   ],
   "source": [
    "\n",
    "\n",
    "\n",
    "def import_model_from_path(file_path: Path):\n",
    "    # Ensure the directory of the file is in sys.path\n",
    "    module_dir = file_path.parent\n",
    "    if str(module_dir) not in sys.path:\n",
    "        sys.path.append(str(module_dir))\n",
    "\n",
    "    # Create a module spec from the file location\n",
    "    spec = importlib.util.spec_from_file_location(file_path.stem, file_path)\n",
    "    if spec is None:\n",
    "        raise ImportError(f\"Could not load spec for module at {file_path}\")\n",
    "\n",
    "    # Load the module from spec\n",
    "    module = importlib.util.module_from_spec(spec)\n",
    "    spec.loader.exec_module(module)\n",
    "\n",
    "    attributes = [a for a in dir(module) if not a.startswith(\"__\")]\n",
    "    print(attributes)\n",
    "\n",
    "    # Access the Model object\n",
    "    if hasattr(module, \"Model\"):\n",
    "        return getattr(module, \"Model\")\n",
    "    else:\n",
    "        raise AttributeError(\n",
    "            f\"Module at {file_path} does not have an object named 'Model'\"\n",
    "        )\n",
    "\n",
    "\n",
    "Model = import_model_from_path(pydantic_models_dir / \"model.py\")"
   ]
  }
 ],
 "metadata": {
  "kernelspec": {
   "display_name": "guided-generation-torch",
   "language": "python",
   "name": "python3"
  },
  "language_info": {
   "codemirror_mode": {
    "name": "ipython",
    "version": 3
   },
   "file_extension": ".py",
   "mimetype": "text/x-python",
   "name": "python",
   "nbconvert_exporter": "python",
   "pygments_lexer": "ipython3",
   "version": "3.11.8"
  }
 },
 "nbformat": 4,
 "nbformat_minor": 2
}
