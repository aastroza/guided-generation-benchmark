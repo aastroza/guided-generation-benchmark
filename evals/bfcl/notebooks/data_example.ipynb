{
 "cells": [
  {
   "cell_type": "code",
   "execution_count": 41,
   "metadata": {},
   "outputs": [],
   "source": [
    "import pandas as pd\n",
    "import sys\n",
    "import importlib.util\n",
    "from pathlib import Path\n",
    "import instructor\n",
    "from openai import OpenAI"
   ]
  },
  {
   "cell_type": "code",
   "execution_count": 30,
   "metadata": {},
   "outputs": [],
   "source": [
    "category = 'simple'\n",
    "df = pd.read_json(f'../data/raw/gorilla_openfunctions_v1_test_{category}.json', lines=True)"
   ]
  },
  {
   "cell_type": "code",
   "execution_count": 31,
   "metadata": {},
   "outputs": [
    {
     "data": {
      "text/html": [
       "<div>\n",
       "<style scoped>\n",
       "    .dataframe tbody tr th:only-of-type {\n",
       "        vertical-align: middle;\n",
       "    }\n",
       "\n",
       "    .dataframe tbody tr th {\n",
       "        vertical-align: top;\n",
       "    }\n",
       "\n",
       "    .dataframe thead th {\n",
       "        text-align: right;\n",
       "    }\n",
       "</style>\n",
       "<table border=\"1\" class=\"dataframe\">\n",
       "  <thead>\n",
       "    <tr style=\"text-align: right;\">\n",
       "      <th></th>\n",
       "      <th>question</th>\n",
       "      <th>function</th>\n",
       "    </tr>\n",
       "  </thead>\n",
       "  <tbody>\n",
       "    <tr>\n",
       "      <th>0</th>\n",
       "      <td>Find the area of a triangle with a base of 10 ...</td>\n",
       "      <td>{'name': 'calculate_triangle_area', 'descripti...</td>\n",
       "    </tr>\n",
       "    <tr>\n",
       "      <th>1</th>\n",
       "      <td>Calculate the factorial of 5 using math functi...</td>\n",
       "      <td>{'name': 'math.factorial', 'description': 'Cal...</td>\n",
       "    </tr>\n",
       "    <tr>\n",
       "      <th>2</th>\n",
       "      <td>Calculate the hypotenuse of a right triangle g...</td>\n",
       "      <td>{'name': 'math.hypot', 'description': 'Calcula...</td>\n",
       "    </tr>\n",
       "    <tr>\n",
       "      <th>3</th>\n",
       "      <td>Find the roots of a quadratic equation with co...</td>\n",
       "      <td>{'name': 'algebra.quadratic_roots', 'descripti...</td>\n",
       "    </tr>\n",
       "    <tr>\n",
       "      <th>4</th>\n",
       "      <td>Solve a quadratic equation where a=2, b=6, and...</td>\n",
       "      <td>{'name': 'solve_quadratic_equation', 'descript...</td>\n",
       "    </tr>\n",
       "  </tbody>\n",
       "</table>\n",
       "</div>"
      ],
      "text/plain": [
       "                                            question  \\\n",
       "0  Find the area of a triangle with a base of 10 ...   \n",
       "1  Calculate the factorial of 5 using math functi...   \n",
       "2  Calculate the hypotenuse of a right triangle g...   \n",
       "3  Find the roots of a quadratic equation with co...   \n",
       "4  Solve a quadratic equation where a=2, b=6, and...   \n",
       "\n",
       "                                            function  \n",
       "0  {'name': 'calculate_triangle_area', 'descripti...  \n",
       "1  {'name': 'math.factorial', 'description': 'Cal...  \n",
       "2  {'name': 'math.hypot', 'description': 'Calcula...  \n",
       "3  {'name': 'algebra.quadratic_roots', 'descripti...  \n",
       "4  {'name': 'solve_quadratic_equation', 'descript...  "
      ]
     },
     "execution_count": 31,
     "metadata": {},
     "output_type": "execute_result"
    }
   ],
   "source": [
    "df.head()"
   ]
  },
  {
   "cell_type": "code",
   "execution_count": 32,
   "metadata": {},
   "outputs": [
    {
     "data": {
      "text/plain": [
       "'Find the area of a triangle with a base of 10 units and height of 5 units.'"
      ]
     },
     "execution_count": 32,
     "metadata": {},
     "output_type": "execute_result"
    }
   ],
   "source": [
    "question = df.loc[0]['question']\n",
    "question"
   ]
  },
  {
   "cell_type": "code",
   "execution_count": 33,
   "metadata": {},
   "outputs": [
    {
     "data": {
      "text/plain": [
       "{'name': 'calculate_triangle_area',\n",
       " 'description': 'Calculate the area of a triangle given its base and height.',\n",
       " 'parameters': {'type': 'dict',\n",
       "  'properties': {'base': {'type': 'integer',\n",
       "    'description': 'The base of the triangle.'},\n",
       "   'height': {'type': 'integer', 'description': 'The height of the triangle.'},\n",
       "   'unit': {'type': 'string',\n",
       "    'description': \"The unit of measure (defaults to 'units' if not specified)\"}},\n",
       "  'required': ['base', 'height']}}"
      ]
     },
     "execution_count": 33,
     "metadata": {},
     "output_type": "execute_result"
    }
   ],
   "source": [
    "functions = df.loc[0]['function']\n",
    "functions"
   ]
  },
  {
   "cell_type": "code",
   "execution_count": 35,
   "metadata": {},
   "outputs": [
    {
     "data": {
      "text/html": [
       "<div>\n",
       "<style scoped>\n",
       "    .dataframe tbody tr th:only-of-type {\n",
       "        vertical-align: middle;\n",
       "    }\n",
       "\n",
       "    .dataframe tbody tr th {\n",
       "        vertical-align: top;\n",
       "    }\n",
       "\n",
       "    .dataframe thead th {\n",
       "        text-align: right;\n",
       "    }\n",
       "</style>\n",
       "<table border=\"1\" class=\"dataframe\">\n",
       "  <thead>\n",
       "    <tr style=\"text-align: right;\">\n",
       "      <th></th>\n",
       "      <th>iterator</th>\n",
       "      <th>category</th>\n",
       "      <th>question</th>\n",
       "      <th>pydantic_model_file</th>\n",
       "    </tr>\n",
       "  </thead>\n",
       "  <tbody>\n",
       "    <tr>\n",
       "      <th>0</th>\n",
       "      <td>0</td>\n",
       "      <td>simple</td>\n",
       "      <td>Find the area of a triangle with a base of 10 ...</td>\n",
       "      <td>simple\\model_000.py</td>\n",
       "    </tr>\n",
       "    <tr>\n",
       "      <th>1</th>\n",
       "      <td>1</td>\n",
       "      <td>simple</td>\n",
       "      <td>Calculate the factorial of 5 using math functi...</td>\n",
       "      <td>simple\\model_001.py</td>\n",
       "    </tr>\n",
       "    <tr>\n",
       "      <th>2</th>\n",
       "      <td>2</td>\n",
       "      <td>simple</td>\n",
       "      <td>Calculate the hypotenuse of a right triangle g...</td>\n",
       "      <td>simple\\model_002.py</td>\n",
       "    </tr>\n",
       "    <tr>\n",
       "      <th>3</th>\n",
       "      <td>3</td>\n",
       "      <td>simple</td>\n",
       "      <td>Find the roots of a quadratic equation with co...</td>\n",
       "      <td>simple\\model_003.py</td>\n",
       "    </tr>\n",
       "    <tr>\n",
       "      <th>4</th>\n",
       "      <td>4</td>\n",
       "      <td>simple</td>\n",
       "      <td>Solve a quadratic equation where a=2, b=6, and...</td>\n",
       "      <td>simple\\model_004.py</td>\n",
       "    </tr>\n",
       "  </tbody>\n",
       "</table>\n",
       "</div>"
      ],
      "text/plain": [
       "   iterator category                                           question  \\\n",
       "0         0   simple  Find the area of a triangle with a base of 10 ...   \n",
       "1         1   simple  Calculate the factorial of 5 using math functi...   \n",
       "2         2   simple  Calculate the hypotenuse of a right triangle g...   \n",
       "3         3   simple  Find the roots of a quadratic equation with co...   \n",
       "4         4   simple  Solve a quadratic equation where a=2, b=6, and...   \n",
       "\n",
       "   pydantic_model_file  \n",
       "0  simple\\model_000.py  \n",
       "1  simple\\model_001.py  \n",
       "2  simple\\model_002.py  \n",
       "3  simple\\model_003.py  \n",
       "4  simple\\model_004.py  "
      ]
     },
     "execution_count": 35,
     "metadata": {},
     "output_type": "execute_result"
    }
   ],
   "source": [
    "df_models = pd.read_csv(f'../data/processed/pydantic_models.csv')\n",
    "df_models.head()"
   ]
  },
  {
   "cell_type": "code",
   "execution_count": 36,
   "metadata": {},
   "outputs": [],
   "source": [
    "model_file = df_models[df_models['question'] == question]['pydantic_model_file'].values[0]\n",
    "\n",
    "pydantic_model_file = Path(\"..\").resolve() / \"data/processed\" / \"pydantic_models\" / model_file"
   ]
  },
  {
   "cell_type": "code",
   "execution_count": 37,
   "metadata": {},
   "outputs": [
    {
     "data": {
      "text/plain": [
       "WindowsPath('C:/Users/Alonso/Dropbox/personal/repos/guided-generation-benchmark/evals/bfcl/data/processed/pydantic_models/simple/model_000.py')"
      ]
     },
     "execution_count": 37,
     "metadata": {},
     "output_type": "execute_result"
    }
   ],
   "source": [
    "pydantic_model_file"
   ]
  },
  {
   "cell_type": "code",
   "execution_count": 38,
   "metadata": {},
   "outputs": [],
   "source": [
    "def import_model_from_path(file_path: Path):\n",
    "    # Ensure the directory of the file is in sys.path\n",
    "    module_dir = file_path.parent\n",
    "    if str(module_dir) not in sys.path:\n",
    "        sys.path.append(str(module_dir))\n",
    "\n",
    "    # Create a module spec from the file location\n",
    "    spec = importlib.util.spec_from_file_location(file_path.stem, file_path)\n",
    "    if spec is None:\n",
    "        raise ImportError(f\"Could not load spec for module at {file_path}\")\n",
    "\n",
    "    # Load the module from spec\n",
    "    module = importlib.util.module_from_spec(spec)\n",
    "    spec.loader.exec_module(module)\n",
    "\n",
    "    attributes = [a for a in dir(module) if not a.startswith(\"__\") and a not in [\"Field\", \"BaseModel\", \"annotations\"]]\n",
    "\n",
    "    # Access the Model object\n",
    "    if hasattr(module, attributes[0]):\n",
    "        return getattr(module, attributes[0])\n",
    "    else:\n",
    "        raise AttributeError(\n",
    "            f\"Module at {file_path} does not have an object named '{attributes[0]}'\"\n",
    "        )\n",
    "\n",
    "\n",
    "Model = import_model_from_path(pydantic_model_file)"
   ]
  },
  {
   "cell_type": "code",
   "execution_count": 39,
   "metadata": {},
   "outputs": [
    {
     "data": {
      "text/plain": [
       "model_000.CalculateTriangleArea"
      ]
     },
     "execution_count": 39,
     "metadata": {},
     "output_type": "execute_result"
    }
   ],
   "source": [
    "Model"
   ]
  },
  {
   "cell_type": "code",
   "execution_count": 40,
   "metadata": {},
   "outputs": [],
   "source": [
    "def augment_prompt_by_languge(prompt, test_category):\n",
    "    if test_category == \"java\":\n",
    "        prompt = prompt + \"\\n Note that the provided function is in Java 8 SDK syntax.\"\n",
    "    elif test_category == \"javascript\":\n",
    "        prompt = prompt + \"\\n Note that the provided function is in JavaScript.\"\n",
    "    else:\n",
    "        prompt = prompt + \"\\n Note that the provided function is in Python.\"\n",
    "    return prompt\n",
    "\n",
    "def language_specific_pre_processing(function, test_category, string_param):\n",
    "    for item in function:\n",
    "        properties = item[\"parameters\"][\"properties\"]\n",
    "        if test_category == \"java\":\n",
    "            for key, value in properties.items():\n",
    "                if value[\"type\"] == \"Any\" or value[\"type\"] == \"any\":\n",
    "                    properties[key][\n",
    "                        \"description\"\n",
    "                    ] += \"This parameter can be of any type of Java object.\"\n",
    "                    properties[key][\"description\"] += (\n",
    "                        \"This is Java\" + value[\"type\"] + \" in string representation.\"\n",
    "                    )\n",
    "        elif test_category == \"javascript\":\n",
    "            for key, value in properties.items():\n",
    "                if value[\"type\"] == \"Any\" or value[\"type\"] == \"any\":\n",
    "                    properties[key][\n",
    "                        \"description\"\n",
    "                    ] += \"This parameter can be of any type of Javascript object.\"\n",
    "                else:\n",
    "                    if \"description\" not in properties[key]:\n",
    "                        properties[key][\"description\"] = \"\"\n",
    "                    properties[key][\"description\"] += (\n",
    "                        \"This is Javascript \"\n",
    "                        + value[\"type\"]\n",
    "                        + \" in string representation.\"\n",
    "                    )\n",
    "        return function\n",
    "    \n",
    "SYSTEM_PROMPT_FOR_CHAT_MODEL = \"\"\"\"\n",
    "    You are an expert in composing functions. You are given a question and a set of possible functions. \n",
    "    Based on the question, you will need to make one or more function/tool calls to achieve the purpose. \n",
    "    If none of the function can be used, point it out. If the given question lacks the parameters required by the function,\n",
    "    also point it out. You should only return the function call in tools call sections.\n",
    "    \"\"\"\n",
    "\n",
    "USER_PROMPT_FOR_CHAT_MODEL = \"\"\"\n",
    "    Questions:{user_prompt}\\nHere is a list of functions in JSON format that you can invoke:\\n{functions}. \n",
    "    Should you decide to return the function call(s),Put it in the format of [func1(params_name=params_value, params_name2=params_value2...), func2(params)]\\n\n",
    "    NO other text MUST be included. \n",
    "\"\"\""
   ]
  },
  {
   "cell_type": "code",
   "execution_count": 42,
   "metadata": {},
   "outputs": [],
   "source": [
    "prompt = augment_prompt_by_languge(question,category)\n",
    "functions_str = language_specific_pre_processing([functions],category,False)\n",
    "messages = [\n",
    "    {\n",
    "        \"role\": \"system\",\n",
    "        \"content\": SYSTEM_PROMPT_FOR_CHAT_MODEL,\n",
    "    },\n",
    "    {\n",
    "        \"role\": \"user\",\n",
    "        \"content\": \"Questions:\"\n",
    "        + USER_PROMPT_FOR_CHAT_MODEL.format(\n",
    "            user_prompt=prompt, functions=str(functions_str)\n",
    "        ),\n",
    "    },\n",
    "]"
   ]
  },
  {
   "cell_type": "code",
   "execution_count": 43,
   "metadata": {},
   "outputs": [],
   "source": [
    "client = instructor.from_openai(OpenAI())\n",
    "\n",
    "model_response = client.chat.completions.create(\n",
    "    model=\"gpt-4-0125-preview\",\n",
    "    response_model=Model,\n",
    "    messages=messages,\n",
    ")"
   ]
  }
 ],
 "metadata": {
  "kernelspec": {
   "display_name": "guided-generation-torch",
   "language": "python",
   "name": "python3"
  },
  "language_info": {
   "codemirror_mode": {
    "name": "ipython",
    "version": 3
   },
   "file_extension": ".py",
   "mimetype": "text/x-python",
   "name": "python",
   "nbconvert_exporter": "python",
   "pygments_lexer": "ipython3",
   "version": "3.11.8"
  }
 },
 "nbformat": 4,
 "nbformat_minor": 2
}
