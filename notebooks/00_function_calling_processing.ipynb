{
 "cells": [
  {
   "cell_type": "code",
   "execution_count": 8,
   "metadata": {},
   "outputs": [
    {
     "name": "stdout",
     "output_type": "stream",
     "text": [
      "The autoreload extension is already loaded. To reload it, use:\n",
      "  %reload_ext autoreload\n"
     ]
    }
   ],
   "source": [
    "import sys\n",
    "sys.path.append('..')\n",
    "from pathlib import Path\n",
    "\n",
    "import json\n",
    "from eval.config import ROOT_DIR\n",
    "\n",
    "%load_ext autoreload\n",
    "%autoreload 2"
   ]
  },
  {
   "cell_type": "markdown",
   "metadata": {},
   "source": [
    "## Gorilla OpenFunctions v1 Test Simple"
   ]
  },
  {
   "cell_type": "code",
   "execution_count": 10,
   "metadata": {},
   "outputs": [],
   "source": [
    "# Load dataset\n",
    "with open(Path(ROOT_DIR, \"data/gorilla_openfunctions_v1_test_simple.jsonl\"), \"r\") as f:\n",
    "    data = [json.loads(item) for item in list(f)]"
   ]
  },
  {
   "cell_type": "code",
   "execution_count": 11,
   "metadata": {},
   "outputs": [
    {
     "data": {
      "text/plain": [
       "{'question': 'Find the area of a triangle with a base of 10 units and height of 5 units.',\n",
       " 'function': {'name': 'calculate_triangle_area',\n",
       "  'description': 'Calculate the area of a triangle given its base and height.',\n",
       "  'parameters': {'type': 'object',\n",
       "   'properties': {'base': {'type': 'number',\n",
       "     'description': 'The base of the triangle.'},\n",
       "    'height': {'type': 'number', 'description': 'The height of the triangle.'},\n",
       "    'unit': {'type': 'string',\n",
       "     'description': \"The unit of measure (defaults to 'units' if not specified)\"}},\n",
       "   'required': ['base', 'height']}},\n",
       " 'human_eval_answer': \"calculate_triangle_area(base=10, height=5, unit='units')\"}"
      ]
     },
     "execution_count": 11,
     "metadata": {},
     "output_type": "execute_result"
    }
   ],
   "source": [
    "data[0]"
   ]
  },
  {
   "cell_type": "code",
   "execution_count": null,
   "metadata": {},
   "outputs": [],
   "source": []
  }
 ],
 "metadata": {
  "kernelspec": {
   "display_name": "guided-generation-benchmark",
   "language": "python",
   "name": "python3"
  },
  "language_info": {
   "codemirror_mode": {
    "name": "ipython",
    "version": 3
   },
   "file_extension": ".py",
   "mimetype": "text/x-python",
   "name": "python",
   "nbconvert_exporter": "python",
   "pygments_lexer": "ipython3",
   "version": "3.11.8"
  }
 },
 "nbformat": 4,
 "nbformat_minor": 2
}
